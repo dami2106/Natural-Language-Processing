{
 "cells": [
  {
   "cell_type": "code",
   "execution_count": 63,
   "metadata": {},
   "outputs": [
    {
     "name": "stderr",
     "output_type": "stream",
     "text": [
      "[nltk_data] Downloading package punkt to\n",
      "[nltk_data]     C:\\Users\\damio\\AppData\\Roaming\\nltk_data...\n",
      "[nltk_data]   Package punkt is already up-to-date!\n"
     ]
    }
   ],
   "source": [
    "import nltk\n",
    "nltk.download('punkt')\n",
    "from nltk.tokenize import word_tokenize, sent_tokenize\n",
    "from nltk.util import ngrams\n",
    "import string\n",
    "import numpy as np\n",
    "from sklearn.utils import shuffle\n",
    "import collections\n",
    "import re\n",
    "import math\n",
    "from sklearn.metrics import confusion_matrix"
   ]
  },
  {
   "cell_type": "code",
   "execution_count": 64,
   "metadata": {},
   "outputs": [],
   "source": [
    "def tokenize(str_data):\n",
    "    data = str_data.lower()\n",
    "    data = re.sub(r'\\n', '', data)\n",
    "    data = re.sub(r'[^A-Za-z\\s]', '', data)\n",
    "    data = data.split(' ')\n",
    "    data = list(filter(lambda item: item != '', data))\n",
    "    return data\n",
    "def extract_ngrams(tokens, n = 2):\n",
    "    ngram_list = ngrams(tokens, n)\n",
    "    return ngram_list"
   ]
  },
  {
   "cell_type": "code",
   "execution_count": 65,
   "metadata": {},
   "outputs": [],
   "source": [
    "books = []\n",
    "\n",
    "for i in range(1, 8):\n",
    "    with open (f\"HP{i}.txt\", 'r') as f:\n",
    "        pages = []\n",
    "        data = f.read()\n",
    "        data = data.split('\\n')\n",
    "        for page in data:\n",
    "            pages.append(tokenize(page))\n",
    "        books.append(pages)\n",
    "        f.close()"
   ]
  },
  {
   "cell_type": "code",
   "execution_count": 66,
   "metadata": {},
   "outputs": [],
   "source": [
    "data = []\n",
    "labels = []\n",
    "for i, book in enumerate(books):\n",
    "    for page in book:\n",
    "        data.append(page)\n",
    "        labels.append(i + 1)\n",
    "books = None"
   ]
  },
  {
   "cell_type": "code",
   "execution_count": 67,
   "metadata": {},
   "outputs": [],
   "source": [
    "data, labels = shuffle(data, labels, random_state=0)\n",
    "train_data = data[:int(len(data) * 0.8)]\n",
    "train_labels = labels[:int(len(labels) * 0.8)]\n",
    "\n",
    "test_data = data[int(len(data) * 0.8):int(len(data) * 0.9)]\n",
    "test_labels = labels[int(len(labels) * 0.8):int(len(labels) * 0.9)]\n",
    "\n",
    "val_data = data[int(len(data) * 0.9):]\n",
    "val_labels = labels[int(len(labels) * 0.9):]\n",
    "\n",
    "data = None\n",
    "labels = None"
   ]
  },
  {
   "cell_type": "code",
   "execution_count": 68,
   "metadata": {},
   "outputs": [],
   "source": [
    "word_frequencies = collections.defaultdict(lambda: collections.defaultdict(int))\n",
    "for label, page in zip(train_labels, train_data):\n",
    "    ngrams_list = list(extract_ngrams(page))\n",
    "    for ngram in ngrams_list:\n",
    "        word_frequencies[label][ngram] += 1"
   ]
  },
  {
   "cell_type": "code",
   "execution_count": 69,
   "metadata": {},
   "outputs": [],
   "source": [
    "def classify(page, delta = 0.01):\n",
    "    class_counts = collections.Counter(label for label in train_labels)\n",
    "    class_priors = {cls: count / len(train_data) for cls, count in class_counts.items()}\n",
    "\n",
    "    page_ngrams = list(extract_ngrams(page))\n",
    "\n",
    "    probabilities = {}\n",
    "    for label in class_counts.keys():\n",
    "        prob = math.log(class_priors[label])\n",
    "\n",
    "        for ngram in page_ngrams:\n",
    "            n_count = word_frequencies[label][tuple(ngram)] + delta\n",
    "            n_total = sum(word_frequencies[label].values()) + delta * len(word_frequencies[label])\n",
    "            prob += math.log(n_count / n_total)\n",
    "        probabilities[label] = prob\n",
    "\n",
    "    return max(probabilities, key=probabilities.get)"
   ]
  },
  {
   "cell_type": "code",
   "execution_count": 70,
   "metadata": {},
   "outputs": [
    {
     "name": "stdout",
     "output_type": "stream",
     "text": [
      "Accuracy for delta = 0.5 is 77.49469214437367\n",
      "Accuracy for delta = 0.1 is 77.49469214437367\n",
      "Accuracy for delta = 0.01 is 77.49469214437367\n",
      "Accuracy for delta = 0.001 is 77.49469214437367\n"
     ]
    },
    {
     "ename": "KeyboardInterrupt",
     "evalue": "",
     "output_type": "error",
     "traceback": [
      "\u001b[1;31m---------------------------------------------------------------------------\u001b[0m",
      "\u001b[1;31mKeyboardInterrupt\u001b[0m                         Traceback (most recent call last)",
      "Cell \u001b[1;32mIn[70], line 5\u001b[0m\n\u001b[0;32m      3\u001b[0m predicted \u001b[39m=\u001b[39m []\n\u001b[0;32m      4\u001b[0m \u001b[39mfor\u001b[39;00m page \u001b[39min\u001b[39;00m test_data:\n\u001b[1;32m----> 5\u001b[0m     predicted\u001b[39m.\u001b[39mappend(classify(page))\n\u001b[0;32m      6\u001b[0m cm \u001b[39m=\u001b[39m confusion_matrix(test_labels, predicted)\n\u001b[0;32m      7\u001b[0m tot \u001b[39m=\u001b[39m np\u001b[39m.\u001b[39msum(cm)\n",
      "Cell \u001b[1;32mIn[69], line 14\u001b[0m, in \u001b[0;36mclassify\u001b[1;34m(page, delta)\u001b[0m\n\u001b[0;32m     12\u001b[0m         n_count \u001b[39m=\u001b[39m word_frequencies[label][\u001b[39mtuple\u001b[39m(ngram)] \u001b[39m+\u001b[39m delta\n\u001b[0;32m     13\u001b[0m         n_total \u001b[39m=\u001b[39m \u001b[39msum\u001b[39m(word_frequencies[label]\u001b[39m.\u001b[39mvalues()) \u001b[39m+\u001b[39m delta \u001b[39m*\u001b[39m \u001b[39mlen\u001b[39m(word_frequencies[label])\n\u001b[1;32m---> 14\u001b[0m         prob \u001b[39m+\u001b[39m\u001b[39m=\u001b[39m math\u001b[39m.\u001b[39;49mlog(n_count \u001b[39m/\u001b[39;49m n_total)\n\u001b[0;32m     15\u001b[0m     probabilities[label] \u001b[39m=\u001b[39m prob\n\u001b[0;32m     17\u001b[0m \u001b[39mreturn\u001b[39;00m \u001b[39mmax\u001b[39m(probabilities, key\u001b[39m=\u001b[39mprobabilities\u001b[39m.\u001b[39mget)\n",
      "\u001b[1;31mKeyboardInterrupt\u001b[0m: "
     ]
    }
   ],
   "source": [
    "deltas = [0.5, 0.1, 0.01, 0.001, 0.0001]\n",
    "for delta in deltas:\n",
    "    predicted = []\n",
    "    for page in test_data:\n",
    "        predicted.append(classify(page))\n",
    "    cm = confusion_matrix(test_labels, predicted)\n",
    "    tot = np.sum(cm)\n",
    "    correct = np.sum(np.diagonal(cm))\n",
    "    accuracy = correct/tot * 100\n",
    "    print(f\"Accuracy for delta = {delta} is {accuracy}\")"
   ]
  }
 ],
 "metadata": {
  "kernelspec": {
   "display_name": "uni",
   "language": "python",
   "name": "python3"
  },
  "language_info": {
   "codemirror_mode": {
    "name": "ipython",
    "version": 3
   },
   "file_extension": ".py",
   "mimetype": "text/x-python",
   "name": "python",
   "nbconvert_exporter": "python",
   "pygments_lexer": "ipython3",
   "version": "3.11.4"
  },
  "orig_nbformat": 4
 },
 "nbformat": 4,
 "nbformat_minor": 2
}
