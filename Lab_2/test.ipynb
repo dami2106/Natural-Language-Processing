{
 "cells": [
  {
   "cell_type": "code",
   "execution_count": 1,
   "metadata": {},
   "outputs": [
    {
     "name": "stderr",
     "output_type": "stream",
     "text": [
      "[nltk_data] Downloading package punkt to\n",
      "[nltk_data]     C:\\Users\\damio\\AppData\\Roaming\\nltk_data...\n",
      "[nltk_data]   Package punkt is already up-to-date!\n"
     ]
    }
   ],
   "source": [
    "import nltk\n",
    "nltk.download('punkt')\n",
    "from nltk.tokenize import word_tokenize, sent_tokenize\n",
    "from nltk.util import ngrams\n",
    "import string\n",
    "import numpy as np\n",
    "from sklearn.utils import shuffle\n",
    "import collections\n",
    "import re\n",
    "import math\n",
    "from sklearn.metrics import confusion_matrix"
   ]
  },
  {
   "cell_type": "code",
   "execution_count": 2,
   "metadata": {},
   "outputs": [],
   "source": [
    "def tokenize(str_data):\n",
    "    data = str_data.lower()\n",
    "    data = re.sub(r'\\n', '', data)\n",
    "    data = re.sub(r'[^A-Za-z\\s]', '', data)\n",
    "    data = data.split(' ')\n",
    "    data = list(filter(lambda item: item != '', data))\n",
    "    return data\n",
    "def extract_ngrams(tokens, n = 3):\n",
    "    ngram_list = ngrams(tokens, n)\n",
    "    return ngram_list"
   ]
  },
  {
   "cell_type": "code",
   "execution_count": 3,
   "metadata": {},
   "outputs": [
    {
     "data": {
      "text/plain": [
       "4707"
      ]
     },
     "execution_count": 3,
     "metadata": {},
     "output_type": "execute_result"
    }
   ],
   "source": [
    "books = []\n",
    "\n",
    "for i in range(1, 8):\n",
    "    with open (f\"harry_potter/HP{i}.txt\", 'r') as f:\n",
    "        pages = []\n",
    "        data = f.read()\n",
    "        data = data.split('\\n')\n",
    "        for page in data:\n",
    "            pages.append(tokenize(page))\n",
    "        books.append(pages)\n",
    "        f.close()"
   ]
  },
  {
   "cell_type": "code",
   "execution_count": 30,
   "metadata": {},
   "outputs": [],
   "source": [
    "data = []\n",
    "labels = []\n",
    "for i, book in enumerate(books):\n",
    "    for page in book:\n",
    "        data.append(page)\n",
    "        labels.append(i + 1)\n",
    "books = None"
   ]
  },
  {
   "cell_type": "code",
   "execution_count": 31,
   "metadata": {},
   "outputs": [],
   "source": [
    "data, labels = shuffle(data, labels, random_state=0)\n",
    "train_data = data[:int(len(data) * 0.8)]\n",
    "train_labels = labels[:int(len(labels) * 0.8)]\n",
    "\n",
    "test_data = data[int(len(data) * 0.8):int(len(data) * 0.9)]\n",
    "test_labels = labels[int(len(labels) * 0.8):int(len(labels) * 0.9)]\n",
    "\n",
    "val_data = data[int(len(data) * 0.9):]\n",
    "val_labels = labels[int(len(labels) * 0.9):]\n",
    "\n",
    "data = None\n",
    "labels = None"
   ]
  },
  {
   "cell_type": "code",
   "execution_count": 32,
   "metadata": {},
   "outputs": [],
   "source": [
    "word_frequencies = collections.defaultdict(lambda: collections.defaultdict(int))\n",
    "for label, page in zip(train_labels, train_data):\n",
    "    ngrams_list = list(extract_ngrams(page))\n",
    "    for ngram in ngrams_list:\n",
    "        word_frequencies[label][ngram] += 1"
   ]
  },
  {
   "cell_type": "code",
   "execution_count": 33,
   "metadata": {},
   "outputs": [],
   "source": [
    "def classify(page, delta = 0.01):\n",
    "    class_counts = collections.Counter(label for label in train_labels)\n",
    "    class_priors = {cls: count / len(train_data) for cls, count in class_counts.items()}\n",
    "\n",
    "    page_ngrams = list(extract_ngrams(page))\n",
    "\n",
    "    probabilities = {}\n",
    "    for label in class_counts.keys():\n",
    "        prob = math.log(class_priors[label])\n",
    "\n",
    "        for ngram in page_ngrams:\n",
    "            n_count = word_frequencies[label][tuple(ngram)] + delta\n",
    "            n_total = sum(word_frequencies[label].values()) + delta * len(word_frequencies[label])\n",
    "            prob += math.log(n_count / n_total)\n",
    "        probabilities[label] = prob\n",
    "\n",
    "    return max(probabilities, key=probabilities.get)"
   ]
  },
  {
   "cell_type": "markdown",
   "metadata": {},
   "source": [
    "### Testing different values of delta on valdiation set"
   ]
  },
  {
   "cell_type": "code",
   "execution_count": 34,
   "metadata": {},
   "outputs": [
    {
     "name": "stdout",
     "output_type": "stream",
     "text": [
      "Testing delta values :  [0.5, 0.1, 0.01, 0.001, 0.0001]\n",
      "Accuracy for delta = 0.5 is 10.191082802547772\n",
      "Accuracy for delta = 0.1 is 13.163481953290871\n",
      "Accuracy for delta = 0.01 is 21.656050955414013\n",
      "Accuracy for delta = 0.001 is 38.6411889596603\n",
      "Accuracy for delta = 0.0001 is 59.23566878980891\n"
     ]
    }
   ],
   "source": [
    "deltas = [0.5, 0.1, 0.01, 0.001, 0.0001]\n",
    "# deltas =  np.linspace(0.01, 0.001, 5)\n",
    "print(\"Testing delta values : \", deltas)\n",
    "best_delta = 0\n",
    "best_accuracy = 0\n",
    "for delta in deltas:\n",
    "    predicted = []\n",
    "    for page in val_data:\n",
    "        predicted.append(classify(page, delta))\n",
    "    cm = confusion_matrix(val_labels, predicted)\n",
    "    tot = np.sum(cm)\n",
    "    correct = np.sum(np.diagonal(cm))\n",
    "    accuracy = correct/tot * 100\n",
    "\n",
    "    if accuracy > best_accuracy:\n",
    "        best_accuracy = accuracy\n",
    "        best_delta = delta\n",
    "    \n",
    "    print(f\"Accuracy for delta = {delta} is {accuracy}\")"
   ]
  },
  {
   "cell_type": "code",
   "execution_count": 36,
   "metadata": {},
   "outputs": [
    {
     "name": "stdout",
     "output_type": "stream",
     "text": [
      "Testing delta values :  [0.0001, 5e-05, 1e-05, 5e-06, 1e-06]\n",
      "Accuracy for delta = 0.0001 is 59.23566878980891\n",
      "Accuracy for delta = 5e-05 is 61.78343949044586\n",
      "Accuracy for delta = 1e-05 is 63.69426751592356\n",
      "Accuracy for delta = 5e-06 is 63.90658174097664\n",
      "Accuracy for delta = 1e-06 is 63.69426751592356\n"
     ]
    }
   ],
   "source": [
    "deltas = [0.0001, 0.00005, 0.00001, 0.000005, 0.000001]\n",
    "# deltas =  np.linspace(0.01, 0.001, 5)\n",
    "print(\"Testing delta values : \", deltas)\n",
    "best_delta = 0\n",
    "best_accuracy = 0\n",
    "for delta in deltas:\n",
    "    predicted = []\n",
    "    for page in val_data:\n",
    "        predicted.append(classify(page, delta))\n",
    "    cm = confusion_matrix(val_labels, predicted)\n",
    "    tot = np.sum(cm)\n",
    "    correct = np.sum(np.diagonal(cm))\n",
    "    accuracy = correct/tot * 100\n",
    "\n",
    "    if accuracy > best_accuracy:\n",
    "        best_accuracy = accuracy\n",
    "        best_delta = delta\n",
    "    \n",
    "    print(f\"Accuracy for delta = {delta} is {accuracy}\")"
   ]
  },
  {
   "cell_type": "markdown",
   "metadata": {},
   "source": [
    "### Evaluating final accuracy on testing set"
   ]
  },
  {
   "cell_type": "code",
   "execution_count": 37,
   "metadata": {},
   "outputs": [
    {
     "name": "stdout",
     "output_type": "stream",
     "text": [
      "Accuracy for delta on testing set is 64.75583864118896\n"
     ]
    }
   ],
   "source": [
    "#From above we see that delta = 0.003 yields best accuracy \n",
    "#Use this delta on the testing set now \n",
    "predicted = []\n",
    "for page in test_data:\n",
    "    predicted.append(classify(page, 5e-06))\n",
    "cm = confusion_matrix(test_labels, predicted)\n",
    "tot = np.sum(cm)\n",
    "correct = np.sum(np.diagonal(cm))\n",
    "accuracy = correct/tot * 100\n",
    "\n",
    "print(f\"Accuracy for delta on testing set is {accuracy}\")"
   ]
  }
 ],
 "metadata": {
  "kernelspec": {
   "display_name": "uni",
   "language": "python",
   "name": "python3"
  },
  "language_info": {
   "codemirror_mode": {
    "name": "ipython",
    "version": 3
   },
   "file_extension": ".py",
   "mimetype": "text/x-python",
   "name": "python",
   "nbconvert_exporter": "python",
   "pygments_lexer": "ipython3",
   "version": "3.11.4"
  },
  "orig_nbformat": 4
 },
 "nbformat": 4,
 "nbformat_minor": 2
}
