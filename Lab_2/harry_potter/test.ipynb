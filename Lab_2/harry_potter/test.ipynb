{
 "cells": [
  {
   "cell_type": "code",
   "execution_count": 19,
   "metadata": {},
   "outputs": [
    {
     "name": "stderr",
     "output_type": "stream",
     "text": [
      "[nltk_data] Downloading package punkt to\n",
      "[nltk_data]     C:\\Users\\damio\\AppData\\Roaming\\nltk_data...\n",
      "[nltk_data]   Package punkt is already up-to-date!\n"
     ]
    }
   ],
   "source": [
    "import nltk\n",
    "nltk.download('punkt')\n",
    "from nltk.tokenize import word_tokenize, sent_tokenize\n",
    "from nltk.util import ngrams\n",
    "import string\n",
    "import numpy as np\n",
    "from sklearn.utils import shuffle\n",
    "import collections\n",
    "import re\n",
    "import math"
   ]
  },
  {
   "cell_type": "code",
   "execution_count": 20,
   "metadata": {},
   "outputs": [],
   "source": [
    "def tokenize(str_data):\n",
    "    data = str_data.lower()\n",
    "    data = re.sub(r'\\n', '', data)\n",
    "    data = re.sub(r'[^A-Za-z\\s]', '', data)\n",
    "    data = data.split(' ')\n",
    "    data = list(filter(lambda item: item != '', data))\n",
    "    return data"
   ]
  },
  {
   "cell_type": "code",
   "execution_count": 21,
   "metadata": {},
   "outputs": [],
   "source": [
    "books = []\n",
    "with open (f\"HP1.txt\", 'r') as f:\n",
    "    pages = []\n",
    "    data = f.read()\n",
    "    data = data.split('\\n')\n",
    "    for page in data:\n",
    "        pages.append(tokenize(page))\n",
    "    books.append(pages)\n",
    "    f.close()\n",
    "\n",
    "with open (f\"HP2.txt\", 'r') as f:\n",
    "    pages = []\n",
    "    data = f.read()\n",
    "    data = data.split('\\n')\n",
    "    for page in data:\n",
    "        pages.append(tokenize(page))\n",
    "    books.append(pages)\n",
    "    f.close()"
   ]
  },
  {
   "cell_type": "code",
   "execution_count": 34,
   "metadata": {},
   "outputs": [],
   "source": [
    "#[book][page]\n",
    "\n",
    "all_data = []\n",
    "labels = []\n",
    "\n",
    "for i, book in enumerate(books):\n",
    "    for page in book:\n",
    "        all_data.append(page)\n",
    "        labels.append(i + 1)"
   ]
  }
 ],
 "metadata": {
  "kernelspec": {
   "display_name": "uni",
   "language": "python",
   "name": "python3"
  },
  "language_info": {
   "codemirror_mode": {
    "name": "ipython",
    "version": 3
   },
   "file_extension": ".py",
   "mimetype": "text/x-python",
   "name": "python",
   "nbconvert_exporter": "python",
   "pygments_lexer": "ipython3",
   "version": "3.11.4"
  },
  "orig_nbformat": 4
 },
 "nbformat": 4,
 "nbformat_minor": 2
}
