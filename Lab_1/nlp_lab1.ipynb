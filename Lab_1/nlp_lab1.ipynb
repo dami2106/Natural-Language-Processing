{
  "cells": [
    {
      "cell_type": "code",
      "execution_count": 1,
      "id": "e35adf4c-2632-4c84-a35c-3c8e152469c7",
      "metadata": {
        "id": "e35adf4c-2632-4c84-a35c-3c8e152469c7"
      },
      "outputs": [],
      "source": [
        "import string\n",
        "import numpy as np\n",
        "import tensorflow as tf\n",
        "from tensorflow.keras import initializers\n",
        "from keras.models import Model\n",
        "from tensorflow.keras.utils import Sequence\n",
        "import re\n",
        "from sklearn.preprocessing import LabelEncoder\n",
        "from sklearn.preprocessing import OneHotEncoder\n",
        "import scipy.sparse\n",
        "from sklearn.model_selection import train_test_split\n",
        "import tensorflow.keras.callbacks as callbacks\n",
        "import matplotlib.pyplot as plt"
      ]
    },
    {
      "cell_type": "code",
      "execution_count": 2,
      "id": "1d4c9000",
      "metadata": {
        "id": "1d4c9000"
      },
      "outputs": [],
      "source": [
        "books = [1, 2, 3, 4]\n",
        "window_size = 2\n",
        "SEED = 42\n",
        "batch_size = 128\n",
        "embedding_size = 25\n",
        "epoch_num = 30"
      ]
    },
    {
      "cell_type": "code",
      "execution_count": 4,
      "id": "882aca16",
      "metadata": {
        "id": "882aca16"
      },
      "outputs": [],
      "source": [
        "book_text = \"\"\n",
        "\n",
        "for book in books:\n",
        "  with open (f\"harry_potter/HP{book}.txt\", 'r') as f:\n",
        "      data = str(f.read()).lower()\n",
        "      book_text += data + ' '\n",
        "      f.close()\n",
        "\n",
        "formatted = re.compile(r'[A-Za-z]+[\\w^\\']*|[\\w^\\']*[A-Za-z]+[\\w^\\']*')\n",
        "formatted = formatted.findall(book_text.lower())\n",
        "book_text = None"
      ]
    },
    {
      "cell_type": "code",
      "execution_count": 5,
      "id": "b1db9d20-9b9c-4338-aa84-6633099665fc",
      "metadata": {
        "colab": {
          "base_uri": "https://localhost:8080/"
        },
        "id": "b1db9d20-9b9c-4338-aa84-6633099665fc",
        "outputId": "16665d96-1700-4cdf-cab3-2db625a8a2ff"
      },
      "outputs": [
        {
          "name": "stdout",
          "output_type": "stream",
          "text": [
            "Vocab size : 14262\n",
            "Total length of corpus : 482093\n"
          ]
        }
      ],
      "source": [
        "unique_words = np.unique(formatted)\n",
        "dict_size = len(unique_words)\n",
        "corpus_size = len(formatted)\n",
        "print(f\"Vocab size : {dict_size}\\nTotal length of corpus : {corpus_size}\")"
      ]
    },
    {
      "cell_type": "code",
      "execution_count": 6,
      "id": "5e7759ca",
      "metadata": {
        "id": "5e7759ca"
      },
      "outputs": [],
      "source": [
        "encoding_to_word = {}\n",
        "word_to_encoding = {}\n",
        "\n",
        "for i, word in enumerate(unique_words):\n",
        "    encoding_to_word[i] = word\n",
        "    word_to_encoding[word] = i"
      ]
    },
    {
      "cell_type": "code",
      "execution_count": 7,
      "id": "e6ce7efd",
      "metadata": {
        "id": "e6ce7efd"
      },
      "outputs": [],
      "source": [
        "window = [i for i in range(-window_size, window_size + 1) if i != 0]\n",
        "data = []\n",
        "labels = []\n",
        "\n",
        "for i in range(corpus_size):\n",
        "    for j in window:\n",
        "        if i + j >= 0 and i + j < corpus_size:\n",
        "            data.append(word_to_encoding[formatted[i]])\n",
        "            labels.append(word_to_encoding[formatted[i + j]])\n",
        "\n",
        "data = np.array(data)\n",
        "labels = np.array(labels)"
      ]
    },
    {
      "cell_type": "code",
      "execution_count": 8,
      "id": "mgPuG-Y6hm0l",
      "metadata": {
        "id": "mgPuG-Y6hm0l"
      },
      "outputs": [],
      "source": [
        "class DataGenerator(Sequence):\n",
        "    def __init__(self, x_set, y_set, batch_size):\n",
        "        self.x, self.y = x_set, y_set\n",
        "        self.batch_size = batch_size\n",
        "\n",
        "    def __len__(self):\n",
        "        return int(np.ceil(len(self.x) / float(self.batch_size)))\n",
        "\n",
        "    def __getitem__(self, idx):\n",
        "        batch_x = self.x[idx * self.batch_size:(idx + 1) * self.batch_size]\n",
        "        batch_y = self.y[idx * self.batch_size:(idx + 1) * self.batch_size]\n",
        "        return batch_x, batch_y"
      ]
    },
    {
      "cell_type": "code",
      "execution_count": 9,
      "id": "vEj_P4W3GcIh",
      "metadata": {
        "id": "vEj_P4W3GcIh"
      },
      "outputs": [
        {
          "ename": "MemoryError",
          "evalue": "Unable to allocate 102. GiB for an array with shape (1928366, 14262) and data type int32",
          "output_type": "error",
          "traceback": [
            "\u001b[1;31m---------------------------------------------------------------------------\u001b[0m",
            "\u001b[1;31mMemoryError\u001b[0m                               Traceback (most recent call last)",
            "Cell \u001b[1;32mIn[9], line 3\u001b[0m\n\u001b[0;32m      1\u001b[0m tf\u001b[39m.\u001b[39mrandom\u001b[39m.\u001b[39mset_seed(SEED)\n\u001b[0;32m      2\u001b[0m data \u001b[39m=\u001b[39m tf\u001b[39m.\u001b[39mkeras\u001b[39m.\u001b[39mutils\u001b[39m.\u001b[39mto_categorical(data, num_classes\u001b[39m=\u001b[39mdict_size, dtype\u001b[39m=\u001b[39m\u001b[39mint\u001b[39m)\n\u001b[1;32m----> 3\u001b[0m labels \u001b[39m=\u001b[39m tf\u001b[39m.\u001b[39;49mkeras\u001b[39m.\u001b[39;49mutils\u001b[39m.\u001b[39;49mto_categorical(labels, num_classes\u001b[39m=\u001b[39;49mdict_size, dtype\u001b[39m=\u001b[39;49m\u001b[39mint\u001b[39;49m)\n\u001b[0;32m      4\u001b[0m train_gen \u001b[39m=\u001b[39m DataGenerator(data, labels, batch_size)\n",
            "File \u001b[1;32m~\\AppData\\Roaming\\Python\\Python310\\site-packages\\keras\\utils\\np_utils.py:72\u001b[0m, in \u001b[0;36mto_categorical\u001b[1;34m(y, num_classes, dtype)\u001b[0m\n\u001b[0;32m     70\u001b[0m     num_classes \u001b[39m=\u001b[39m np\u001b[39m.\u001b[39mmax(y) \u001b[39m+\u001b[39m \u001b[39m1\u001b[39m\n\u001b[0;32m     71\u001b[0m n \u001b[39m=\u001b[39m y\u001b[39m.\u001b[39mshape[\u001b[39m0\u001b[39m]\n\u001b[1;32m---> 72\u001b[0m categorical \u001b[39m=\u001b[39m np\u001b[39m.\u001b[39;49mzeros((n, num_classes), dtype\u001b[39m=\u001b[39;49mdtype)\n\u001b[0;32m     73\u001b[0m categorical[np\u001b[39m.\u001b[39marange(n), y] \u001b[39m=\u001b[39m \u001b[39m1\u001b[39m\n\u001b[0;32m     74\u001b[0m output_shape \u001b[39m=\u001b[39m input_shape \u001b[39m+\u001b[39m (num_classes,)\n",
            "\u001b[1;31mMemoryError\u001b[0m: Unable to allocate 102. GiB for an array with shape (1928366, 14262) and data type int32"
          ]
        }
      ],
      "source": [
        "tf.random.set_seed(SEED)\n",
        "data = tf.keras.utils.to_categorical(data, num_classes=dict_size, dtype=int)\n",
        "labels = tf.keras.utils.to_categorical(labels, num_classes=dict_size, dtype=int)\n",
        "train_gen = DataGenerator(data, labels, batch_size)"
      ]
    },
    {
      "cell_type": "code",
      "execution_count": 9,
      "id": "126797aa",
      "metadata": {
        "id": "126797aa"
      },
      "outputs": [],
      "source": [
        "model = tf.keras.Sequential([\n",
        "    tf.keras.layers.Dense(units=embedding_size,\n",
        "                          activation='linear',\n",
        "                          input_shape=(dict_size,),\n",
        "                          name='hidden_1'),\n",
        "    tf.keras.layers.Dense(units=dict_size,\n",
        "                          activation='softmax',\n",
        "                          name='output')\n",
        "])"
      ]
    },
    {
      "cell_type": "code",
      "execution_count": 10,
      "id": "92541ec8",
      "metadata": {
        "colab": {
          "base_uri": "https://localhost:8080/"
        },
        "id": "92541ec8",
        "outputId": "ca79cf4d-908e-4735-ef4b-d36ddc67f275"
      },
      "outputs": [
        {
          "name": "stdout",
          "output_type": "stream",
          "text": [
            "Model: \"sequential\"\n",
            "_________________________________________________________________\n",
            " Layer (type)                Output Shape              Param #   \n",
            "=================================================================\n",
            " hidden_1 (Dense)            (None, 25)                356575    \n",
            "                                                                 \n",
            " output (Dense)              (None, 14262)             370812    \n",
            "                                                                 \n",
            "=================================================================\n",
            "Total params: 727,387\n",
            "Trainable params: 727,387\n",
            "Non-trainable params: 0\n",
            "_________________________________________________________________\n"
          ]
        }
      ],
      "source": [
        "model.summary()"
      ]
    },
    {
      "cell_type": "code",
      "execution_count": 11,
      "id": "56897203",
      "metadata": {
        "id": "56897203"
      },
      "outputs": [],
      "source": [
        "optimizer = tf.keras.optimizers.Adam()\n",
        "loss_function = tf.keras.losses.CategoricalCrossentropy()\n",
        "model.compile(optimizer=optimizer, loss=loss_function, metrics=['accuracy'])"
      ]
    },
    {
      "cell_type": "code",
      "execution_count": 12,
      "id": "fZCYE6T5Ff2e",
      "metadata": {
        "colab": {
          "base_uri": "https://localhost:8080/",
          "height": 567
        },
        "id": "fZCYE6T5Ff2e",
        "outputId": "2f239fd1-452a-4b75-f012-99acfc7af0bc"
      },
      "outputs": [
        {
          "name": "stdout",
          "output_type": "stream",
          "text": [
            "Epoch 1/30\n",
            "15066/15066 [==============================] - 207s 13ms/step - loss: 6.6925 - accuracy: 0.0550 - lr: 0.0010\n",
            "Epoch 2/30\n",
            "15066/15066 [==============================] - 206s 14ms/step - loss: 6.4392 - accuracy: 0.0718 - lr: 0.0010\n",
            "Epoch 3/30\n",
            "15066/15066 [==============================] - 205s 14ms/step - loss: 6.3661 - accuracy: 0.0765 - lr: 0.0010\n",
            "Epoch 4/30\n",
            " 9047/15066 [=================>............] - ETA: 1:22 - loss: 6.3202 - accuracy: 0.0784"
          ]
        },
        {
          "ename": "KeyboardInterrupt",
          "evalue": "ignored",
          "output_type": "error",
          "traceback": [
            "\u001b[0;31m---------------------------------------------------------------------------\u001b[0m",
            "\u001b[0;31mKeyboardInterrupt\u001b[0m                         Traceback (most recent call last)",
            "\u001b[0;32m<ipython-input-12-78c826c82635>\u001b[0m in \u001b[0;36m<cell line: 1>\u001b[0;34m()\u001b[0m\n\u001b[0;32m----> 1\u001b[0;31m hisotry = model.fit(train_gen, epochs = epoch_num, shuffle = True, callbacks=[\n\u001b[0m\u001b[1;32m      2\u001b[0m         \u001b[0mcallbacks\u001b[0m\u001b[0;34m.\u001b[0m\u001b[0mReduceLROnPlateau\u001b[0m\u001b[0;34m(\u001b[0m\u001b[0mmonitor\u001b[0m\u001b[0;34m=\u001b[0m\u001b[0;34m'loss'\u001b[0m\u001b[0;34m,\u001b[0m \u001b[0mpatience\u001b[0m\u001b[0;34m=\u001b[0m\u001b[0;36m5\u001b[0m\u001b[0;34m)\u001b[0m\u001b[0;34m,\u001b[0m\u001b[0;34m\u001b[0m\u001b[0;34m\u001b[0m\u001b[0m\n\u001b[1;32m      3\u001b[0m         \u001b[0mcallbacks\u001b[0m\u001b[0;34m.\u001b[0m\u001b[0mEarlyStopping\u001b[0m\u001b[0;34m(\u001b[0m\u001b[0mmonitor\u001b[0m\u001b[0;34m=\u001b[0m\u001b[0;34m'loss'\u001b[0m\u001b[0;34m,\u001b[0m \u001b[0mpatience\u001b[0m\u001b[0;34m=\u001b[0m\u001b[0;36m5\u001b[0m\u001b[0;34m)\u001b[0m\u001b[0;34m,\u001b[0m\u001b[0;34m\u001b[0m\u001b[0;34m\u001b[0m\u001b[0m\n\u001b[1;32m      4\u001b[0m         \u001b[0mcallbacks\u001b[0m\u001b[0;34m.\u001b[0m\u001b[0mCSVLogger\u001b[0m\u001b[0;34m(\u001b[0m\u001b[0;34m\"model_data.csv\"\u001b[0m\u001b[0;34m,\u001b[0m \u001b[0mseparator\u001b[0m\u001b[0;34m=\u001b[0m\u001b[0;34m\",\"\u001b[0m\u001b[0;34m,\u001b[0m \u001b[0mappend\u001b[0m\u001b[0;34m=\u001b[0m\u001b[0;32mTrue\u001b[0m\u001b[0;34m)\u001b[0m\u001b[0;34m\u001b[0m\u001b[0;34m\u001b[0m\u001b[0m\n\u001b[1;32m      5\u001b[0m         ])\n",
            "\u001b[0;32m/usr/local/lib/python3.10/dist-packages/keras/utils/traceback_utils.py\u001b[0m in \u001b[0;36merror_handler\u001b[0;34m(*args, **kwargs)\u001b[0m\n\u001b[1;32m     63\u001b[0m         \u001b[0mfiltered_tb\u001b[0m \u001b[0;34m=\u001b[0m \u001b[0;32mNone\u001b[0m\u001b[0;34m\u001b[0m\u001b[0;34m\u001b[0m\u001b[0m\n\u001b[1;32m     64\u001b[0m         \u001b[0;32mtry\u001b[0m\u001b[0;34m:\u001b[0m\u001b[0;34m\u001b[0m\u001b[0;34m\u001b[0m\u001b[0m\n\u001b[0;32m---> 65\u001b[0;31m             \u001b[0;32mreturn\u001b[0m \u001b[0mfn\u001b[0m\u001b[0;34m(\u001b[0m\u001b[0;34m*\u001b[0m\u001b[0margs\u001b[0m\u001b[0;34m,\u001b[0m \u001b[0;34m**\u001b[0m\u001b[0mkwargs\u001b[0m\u001b[0;34m)\u001b[0m\u001b[0;34m\u001b[0m\u001b[0;34m\u001b[0m\u001b[0m\n\u001b[0m\u001b[1;32m     66\u001b[0m         \u001b[0;32mexcept\u001b[0m \u001b[0mException\u001b[0m \u001b[0;32mas\u001b[0m \u001b[0me\u001b[0m\u001b[0;34m:\u001b[0m\u001b[0;34m\u001b[0m\u001b[0;34m\u001b[0m\u001b[0m\n\u001b[1;32m     67\u001b[0m             \u001b[0mfiltered_tb\u001b[0m \u001b[0;34m=\u001b[0m \u001b[0m_process_traceback_frames\u001b[0m\u001b[0;34m(\u001b[0m\u001b[0me\u001b[0m\u001b[0;34m.\u001b[0m\u001b[0m__traceback__\u001b[0m\u001b[0;34m)\u001b[0m\u001b[0;34m\u001b[0m\u001b[0;34m\u001b[0m\u001b[0m\n",
            "\u001b[0;32m/usr/local/lib/python3.10/dist-packages/keras/engine/training.py\u001b[0m in \u001b[0;36mfit\u001b[0;34m(self, x, y, batch_size, epochs, verbose, callbacks, validation_split, validation_data, shuffle, class_weight, sample_weight, initial_epoch, steps_per_epoch, validation_steps, validation_batch_size, validation_freq, max_queue_size, workers, use_multiprocessing)\u001b[0m\n\u001b[1;32m   1683\u001b[0m                         ):\n\u001b[1;32m   1684\u001b[0m                             \u001b[0mcallbacks\u001b[0m\u001b[0;34m.\u001b[0m\u001b[0mon_train_batch_begin\u001b[0m\u001b[0;34m(\u001b[0m\u001b[0mstep\u001b[0m\u001b[0;34m)\u001b[0m\u001b[0;34m\u001b[0m\u001b[0;34m\u001b[0m\u001b[0m\n\u001b[0;32m-> 1685\u001b[0;31m                             \u001b[0mtmp_logs\u001b[0m \u001b[0;34m=\u001b[0m \u001b[0mself\u001b[0m\u001b[0;34m.\u001b[0m\u001b[0mtrain_function\u001b[0m\u001b[0;34m(\u001b[0m\u001b[0miterator\u001b[0m\u001b[0;34m)\u001b[0m\u001b[0;34m\u001b[0m\u001b[0;34m\u001b[0m\u001b[0m\n\u001b[0m\u001b[1;32m   1686\u001b[0m                             \u001b[0;32mif\u001b[0m \u001b[0mdata_handler\u001b[0m\u001b[0;34m.\u001b[0m\u001b[0mshould_sync\u001b[0m\u001b[0;34m:\u001b[0m\u001b[0;34m\u001b[0m\u001b[0;34m\u001b[0m\u001b[0m\n\u001b[1;32m   1687\u001b[0m                                 \u001b[0mcontext\u001b[0m\u001b[0;34m.\u001b[0m\u001b[0masync_wait\u001b[0m\u001b[0;34m(\u001b[0m\u001b[0;34m)\u001b[0m\u001b[0;34m\u001b[0m\u001b[0;34m\u001b[0m\u001b[0m\n",
            "\u001b[0;32m/usr/local/lib/python3.10/dist-packages/tensorflow/python/util/traceback_utils.py\u001b[0m in \u001b[0;36merror_handler\u001b[0;34m(*args, **kwargs)\u001b[0m\n\u001b[1;32m    148\u001b[0m     \u001b[0mfiltered_tb\u001b[0m \u001b[0;34m=\u001b[0m \u001b[0;32mNone\u001b[0m\u001b[0;34m\u001b[0m\u001b[0;34m\u001b[0m\u001b[0m\n\u001b[1;32m    149\u001b[0m     \u001b[0;32mtry\u001b[0m\u001b[0;34m:\u001b[0m\u001b[0;34m\u001b[0m\u001b[0;34m\u001b[0m\u001b[0m\n\u001b[0;32m--> 150\u001b[0;31m       \u001b[0;32mreturn\u001b[0m \u001b[0mfn\u001b[0m\u001b[0;34m(\u001b[0m\u001b[0;34m*\u001b[0m\u001b[0margs\u001b[0m\u001b[0;34m,\u001b[0m \u001b[0;34m**\u001b[0m\u001b[0mkwargs\u001b[0m\u001b[0;34m)\u001b[0m\u001b[0;34m\u001b[0m\u001b[0;34m\u001b[0m\u001b[0m\n\u001b[0m\u001b[1;32m    151\u001b[0m     \u001b[0;32mexcept\u001b[0m \u001b[0mException\u001b[0m \u001b[0;32mas\u001b[0m \u001b[0me\u001b[0m\u001b[0;34m:\u001b[0m\u001b[0;34m\u001b[0m\u001b[0;34m\u001b[0m\u001b[0m\n\u001b[1;32m    152\u001b[0m       \u001b[0mfiltered_tb\u001b[0m \u001b[0;34m=\u001b[0m \u001b[0m_process_traceback_frames\u001b[0m\u001b[0;34m(\u001b[0m\u001b[0me\u001b[0m\u001b[0;34m.\u001b[0m\u001b[0m__traceback__\u001b[0m\u001b[0;34m)\u001b[0m\u001b[0;34m\u001b[0m\u001b[0;34m\u001b[0m\u001b[0m\n",
            "\u001b[0;32m/usr/local/lib/python3.10/dist-packages/tensorflow/python/eager/polymorphic_function/polymorphic_function.py\u001b[0m in \u001b[0;36m__call__\u001b[0;34m(self, *args, **kwds)\u001b[0m\n\u001b[1;32m    892\u001b[0m \u001b[0;34m\u001b[0m\u001b[0m\n\u001b[1;32m    893\u001b[0m       \u001b[0;32mwith\u001b[0m \u001b[0mOptionalXlaContext\u001b[0m\u001b[0;34m(\u001b[0m\u001b[0mself\u001b[0m\u001b[0;34m.\u001b[0m\u001b[0m_jit_compile\u001b[0m\u001b[0;34m)\u001b[0m\u001b[0;34m:\u001b[0m\u001b[0;34m\u001b[0m\u001b[0;34m\u001b[0m\u001b[0m\n\u001b[0;32m--> 894\u001b[0;31m         \u001b[0mresult\u001b[0m \u001b[0;34m=\u001b[0m \u001b[0mself\u001b[0m\u001b[0;34m.\u001b[0m\u001b[0m_call\u001b[0m\u001b[0;34m(\u001b[0m\u001b[0;34m*\u001b[0m\u001b[0margs\u001b[0m\u001b[0;34m,\u001b[0m \u001b[0;34m**\u001b[0m\u001b[0mkwds\u001b[0m\u001b[0;34m)\u001b[0m\u001b[0;34m\u001b[0m\u001b[0;34m\u001b[0m\u001b[0m\n\u001b[0m\u001b[1;32m    895\u001b[0m \u001b[0;34m\u001b[0m\u001b[0m\n\u001b[1;32m    896\u001b[0m       \u001b[0mnew_tracing_count\u001b[0m \u001b[0;34m=\u001b[0m \u001b[0mself\u001b[0m\u001b[0;34m.\u001b[0m\u001b[0mexperimental_get_tracing_count\u001b[0m\u001b[0;34m(\u001b[0m\u001b[0;34m)\u001b[0m\u001b[0;34m\u001b[0m\u001b[0;34m\u001b[0m\u001b[0m\n",
            "\u001b[0;32m/usr/local/lib/python3.10/dist-packages/tensorflow/python/eager/polymorphic_function/polymorphic_function.py\u001b[0m in \u001b[0;36m_call\u001b[0;34m(self, *args, **kwds)\u001b[0m\n\u001b[1;32m    924\u001b[0m       \u001b[0;31m# In this case we have created variables on the first call, so we run the\u001b[0m\u001b[0;34m\u001b[0m\u001b[0;34m\u001b[0m\u001b[0m\n\u001b[1;32m    925\u001b[0m       \u001b[0;31m# defunned version which is guaranteed to never create variables.\u001b[0m\u001b[0;34m\u001b[0m\u001b[0;34m\u001b[0m\u001b[0m\n\u001b[0;32m--> 926\u001b[0;31m       \u001b[0;32mreturn\u001b[0m \u001b[0mself\u001b[0m\u001b[0;34m.\u001b[0m\u001b[0m_no_variable_creation_fn\u001b[0m\u001b[0;34m(\u001b[0m\u001b[0;34m*\u001b[0m\u001b[0margs\u001b[0m\u001b[0;34m,\u001b[0m \u001b[0;34m**\u001b[0m\u001b[0mkwds\u001b[0m\u001b[0;34m)\u001b[0m  \u001b[0;31m# pylint: disable=not-callable\u001b[0m\u001b[0;34m\u001b[0m\u001b[0;34m\u001b[0m\u001b[0m\n\u001b[0m\u001b[1;32m    927\u001b[0m     \u001b[0;32melif\u001b[0m \u001b[0mself\u001b[0m\u001b[0;34m.\u001b[0m\u001b[0m_variable_creation_fn\u001b[0m \u001b[0;32mis\u001b[0m \u001b[0;32mnot\u001b[0m \u001b[0;32mNone\u001b[0m\u001b[0;34m:\u001b[0m\u001b[0;34m\u001b[0m\u001b[0;34m\u001b[0m\u001b[0m\n\u001b[1;32m    928\u001b[0m       \u001b[0;31m# Release the lock early so that multiple threads can perform the call\u001b[0m\u001b[0;34m\u001b[0m\u001b[0;34m\u001b[0m\u001b[0m\n",
            "\u001b[0;32m/usr/local/lib/python3.10/dist-packages/tensorflow/python/eager/polymorphic_function/tracing_compiler.py\u001b[0m in \u001b[0;36m__call__\u001b[0;34m(self, *args, **kwargs)\u001b[0m\n\u001b[1;32m    141\u001b[0m       (concrete_function,\n\u001b[1;32m    142\u001b[0m        filtered_flat_args) = self._maybe_define_function(args, kwargs)\n\u001b[0;32m--> 143\u001b[0;31m     return concrete_function._call_flat(\n\u001b[0m\u001b[1;32m    144\u001b[0m         filtered_flat_args, captured_inputs=concrete_function.captured_inputs)  # pylint: disable=protected-access\n\u001b[1;32m    145\u001b[0m \u001b[0;34m\u001b[0m\u001b[0m\n",
            "\u001b[0;32m/usr/local/lib/python3.10/dist-packages/tensorflow/python/eager/polymorphic_function/monomorphic_function.py\u001b[0m in \u001b[0;36m_call_flat\u001b[0;34m(self, args, captured_inputs, cancellation_manager)\u001b[0m\n\u001b[1;32m   1755\u001b[0m         and executing_eagerly):\n\u001b[1;32m   1756\u001b[0m       \u001b[0;31m# No tape is watching; skip to running the function.\u001b[0m\u001b[0;34m\u001b[0m\u001b[0;34m\u001b[0m\u001b[0m\n\u001b[0;32m-> 1757\u001b[0;31m       return self._build_call_outputs(self._inference_function.call(\n\u001b[0m\u001b[1;32m   1758\u001b[0m           ctx, args, cancellation_manager=cancellation_manager))\n\u001b[1;32m   1759\u001b[0m     forward_backward = self._select_forward_and_backward_functions(\n",
            "\u001b[0;32m/usr/local/lib/python3.10/dist-packages/tensorflow/python/eager/polymorphic_function/monomorphic_function.py\u001b[0m in \u001b[0;36mcall\u001b[0;34m(self, ctx, args, cancellation_manager)\u001b[0m\n\u001b[1;32m    379\u001b[0m       \u001b[0;32mwith\u001b[0m \u001b[0m_InterpolateFunctionError\u001b[0m\u001b[0;34m(\u001b[0m\u001b[0mself\u001b[0m\u001b[0;34m)\u001b[0m\u001b[0;34m:\u001b[0m\u001b[0;34m\u001b[0m\u001b[0;34m\u001b[0m\u001b[0m\n\u001b[1;32m    380\u001b[0m         \u001b[0;32mif\u001b[0m \u001b[0mcancellation_manager\u001b[0m \u001b[0;32mis\u001b[0m \u001b[0;32mNone\u001b[0m\u001b[0;34m:\u001b[0m\u001b[0;34m\u001b[0m\u001b[0;34m\u001b[0m\u001b[0m\n\u001b[0;32m--> 381\u001b[0;31m           outputs = execute.execute(\n\u001b[0m\u001b[1;32m    382\u001b[0m               \u001b[0mstr\u001b[0m\u001b[0;34m(\u001b[0m\u001b[0mself\u001b[0m\u001b[0;34m.\u001b[0m\u001b[0msignature\u001b[0m\u001b[0;34m.\u001b[0m\u001b[0mname\u001b[0m\u001b[0;34m)\u001b[0m\u001b[0;34m,\u001b[0m\u001b[0;34m\u001b[0m\u001b[0;34m\u001b[0m\u001b[0m\n\u001b[1;32m    383\u001b[0m               \u001b[0mnum_outputs\u001b[0m\u001b[0;34m=\u001b[0m\u001b[0mself\u001b[0m\u001b[0;34m.\u001b[0m\u001b[0m_num_outputs\u001b[0m\u001b[0;34m,\u001b[0m\u001b[0;34m\u001b[0m\u001b[0;34m\u001b[0m\u001b[0m\n",
            "\u001b[0;32m/usr/local/lib/python3.10/dist-packages/tensorflow/python/eager/execute.py\u001b[0m in \u001b[0;36mquick_execute\u001b[0;34m(op_name, num_outputs, inputs, attrs, ctx, name)\u001b[0m\n\u001b[1;32m     50\u001b[0m   \u001b[0;32mtry\u001b[0m\u001b[0;34m:\u001b[0m\u001b[0;34m\u001b[0m\u001b[0;34m\u001b[0m\u001b[0m\n\u001b[1;32m     51\u001b[0m     \u001b[0mctx\u001b[0m\u001b[0;34m.\u001b[0m\u001b[0mensure_initialized\u001b[0m\u001b[0;34m(\u001b[0m\u001b[0;34m)\u001b[0m\u001b[0;34m\u001b[0m\u001b[0;34m\u001b[0m\u001b[0m\n\u001b[0;32m---> 52\u001b[0;31m     tensors = pywrap_tfe.TFE_Py_Execute(ctx._handle, device_name, op_name,\n\u001b[0m\u001b[1;32m     53\u001b[0m                                         inputs, attrs, num_outputs)\n\u001b[1;32m     54\u001b[0m   \u001b[0;32mexcept\u001b[0m \u001b[0mcore\u001b[0m\u001b[0;34m.\u001b[0m\u001b[0m_NotOkStatusException\u001b[0m \u001b[0;32mas\u001b[0m \u001b[0me\u001b[0m\u001b[0;34m:\u001b[0m\u001b[0;34m\u001b[0m\u001b[0;34m\u001b[0m\u001b[0m\n",
            "\u001b[0;31mKeyboardInterrupt\u001b[0m: "
          ]
        }
      ],
      "source": [
        "hisotry = model.fit(train_gen, epochs = epoch_num, shuffle = True, callbacks=[\n",
        "        callbacks.ReduceLROnPlateau(monitor='loss', patience=5),\n",
        "        callbacks.EarlyStopping(monitor='loss', patience=5),\n",
        "        callbacks.CSVLogger(\"model_data.csv\", separator=\",\", append=True)\n",
        "        ])"
      ]
    },
    {
      "cell_type": "code",
      "execution_count": null,
      "id": "s2OvV9N8FmfT",
      "metadata": {
        "id": "s2OvV9N8FmfT"
      },
      "outputs": [],
      "source": [
        "model.save(\"nlp_model_new.tf\", save_format='tf')"
      ]
    },
    {
      "cell_type": "code",
      "execution_count": null,
      "id": "kcVXNOUGbBmJ",
      "metadata": {
        "colab": {
          "base_uri": "https://localhost:8080/",
          "height": 349
        },
        "id": "kcVXNOUGbBmJ",
        "outputId": "b1510591-425f-4df9-b64d-f074e82b5242"
      },
      "outputs": [
        {
          "data": {
            "image/png": "[encoded data removed]",
            "text/plain": [
              "<Figure size 1000x500 with 2 Axes>"
            ]
          },
          "metadata": {},
          "output_type": "display_data"
        }
      ],
      "source": [
        "# Plotting accuracy\n",
        "plt.figure(figsize=(10, 5))\n",
        "plt.subplot(1, 2, 1)\n",
        "plt.plot(hisotry.history['accuracy'], label='Training Accuracy')\n",
        "plt.title('Accuracy')\n",
        "plt.xlabel('Epoch')\n",
        "plt.ylabel('Accuracy')\n",
        "plt.legend()\n",
        "\n",
        "# Plotting loss\n",
        "plt.subplot(1, 2, 2)\n",
        "plt.plot(hisotry.history['loss'], label='Training Loss')\n",
        "plt.title('Loss')\n",
        "plt.xlabel('Epoch')\n",
        "plt.ylabel('Loss')\n",
        "plt.legend()\n",
        "\n",
        "plt.tight_layout()\n",
        "plt.show()"
      ]
    },
    {
      "cell_type": "code",
      "execution_count": null,
      "id": "qjnQmQa7dgjA",
      "metadata": {
        "id": "qjnQmQa7dgjA"
      },
      "outputs": [],
      "source": [
        "embed_model = Model(inputs=model.input, outputs=model.layers[0].output)"
      ]
    },
    {
      "cell_type": "code",
      "execution_count": null,
      "id": "5VjTGcBunvjx",
      "metadata": {
        "id": "5VjTGcBunvjx"
      },
      "outputs": [],
      "source": [
        "def get_embedding(model, input_word):\n",
        "\n",
        "    word_ind = word_to_encoding[input_word]\n",
        "    word_enc = tf.keras.utils.to_categorical(word_ind, num_classes=dict_size, dtype=int)\n",
        "\n",
        "    word_enc = word_enc.reshape(1, -1)\n",
        "\n",
        "    return np.array(model(word_enc)[0])"
      ]
    },
    {
      "cell_type": "code",
      "execution_count": null,
      "id": "UQJO_kC5cY1q",
      "metadata": {
        "id": "UQJO_kC5cY1q"
      },
      "outputs": [],
      "source": [
        "#Harry -> wand, wizard, potter etc\n",
        "from numpy.linalg import norm\n",
        "def get_similar_words(model, input_word):\n",
        "  #Get the 5 most similar wrods to input word\n",
        "  input_embedding = get_embedding(model, input_word)\n",
        "\n",
        "  embedding_dict = {}\n",
        "\n",
        "  for word in unique_words:\n",
        "    word_embedding = get_embedding(model, word)\n",
        "    dist = np.linalg.norm(input_embedding - word_embedding)\n",
        "    embedding_dict[word] = dist\n",
        "\n",
        "  return embedding_dict"
      ]
    },
    {
      "cell_type": "code",
      "execution_count": null,
      "id": "1oWJSdx3f-6P",
      "metadata": {
        "id": "1oWJSdx3f-6P"
      },
      "outputs": [],
      "source": [
        "word_dict = get_similar_words(embed_model, \"hermione\")\n",
        "list1 = sorted(word_dict, key=word_dict.get, reverse = False)\n",
        "list2 = sorted(word_dict, key=word_dict.get, reverse = True)"
      ]
    },
    {
      "cell_type": "code",
      "execution_count": null,
      "id": "IeQbgr6b-pW4",
      "metadata": {
        "colab": {
          "base_uri": "https://localhost:8080/"
        },
        "id": "IeQbgr6b-pW4",
        "outputId": "237a096a-1b3d-4c22-8ed7-b0d30328a7da"
      },
      "outputs": [
        {
          "name": "stdout",
          "output_type": "stream",
          "text": [
            "hermione 0.0\n",
            "mmm 2.7380803\n",
            "mortis 2.7925336\n",
            "ron 2.794163\n",
            "undaunted 2.8362098\n",
            "daddy 2.867758\n",
            "desert 2.8760962\n",
            "admirable 2.884234\n",
            "headmistress 2.8858354\n",
            "laundry 2.8864841\n",
            "fascinated 2.8977437\n",
            "pimply 2.9049067\n",
            "daubed 2.9327705\n",
            "pebbles 2.9332204\n",
            "giggled 2.9394798\n",
            "snape 2.9521203\n",
            "forcing 2.9725704\n",
            "regular 2.9844317\n",
            "it 2.9867413\n",
            "him 2.9869626\n",
            "ghoulie 2.9945245\n",
            "jaw 2.997785\n",
            "yelped 3.0020094\n",
            "sponge 3.003011\n",
            "hagrid 3.004888\n",
            "redder 3.0090094\n",
            "freezing 3.012966\n",
            "wonderingly 3.0343678\n",
            "dip 3.0434284\n",
            "blocking 3.0520856\n",
            "automatically 3.0525634\n",
            "begins 3.0541854\n",
            "sahara 3.0556865\n",
            "challenged 3.0566342\n",
            "grand 3.0602336\n",
            "brocklehurst 3.0616624\n",
            "fluxweed 3.067384\n",
            "stifled 3.0743358\n",
            "sentiments 3.0784664\n",
            "north 3.0806108\n",
            "mandy 3.0864093\n",
            "mops 3.089467\n",
            "maroon 3.092262\n",
            "detergent 3.0937214\n",
            "myths 3.094435\n",
            "pointlessly 3.0987\n",
            "clench 3.1013217\n",
            "alike 3.1038895\n",
            "boaters 3.1060472\n",
            "loss 3.1087453\n",
            "wailing 3.1103964\n",
            "theory 3.1137452\n",
            "prodded 3.1158855\n",
            "thankfully 3.1217933\n",
            "scorch 3.122039\n",
            "awfully 3.1232255\n",
            "yorkshire 3.1260605\n",
            "creep 3.1264687\n",
            "tipping 3.1275408\n",
            "stupidly 3.1316676\n",
            "peskipiksi 3.1333358\n",
            "she 3.1363215\n",
            "repellent 3.149082\n",
            "secretive 3.1505194\n",
            "unclench 3.153184\n",
            "disarming 3.1540327\n",
            "bishops 3.1546268\n",
            "guard 3.1599722\n",
            "stray 3.1611123\n",
            "again 3.1647058\n",
            "wrestled 3.1668208\n",
            "nudged 3.1748288\n",
            "rear 3.175993\n",
            "enraged 3.1761816\n",
            "well 3.1846483\n",
            "emeric 3.184869\n",
            "rot 3.1853411\n",
            "lockhart 3.1893034\n",
            "october 3.1911306\n",
            "rhino 3.1985922\n",
            "peacock 3.200801\n",
            "accidentally 3.201688\n",
            "draconis 3.2028239\n",
            "quirrell 3.206415\n",
            "weaving 3.207476\n",
            "favors 3.2079656\n",
            "actual 3.2081127\n",
            "harry 3.2145746\n",
            "audience 3.2149963\n",
            "pleaded 3.2207146\n",
            "fuming 3.2207837\n",
            "humbugs 3.221542\n",
            "malfoy 3.223886\n",
            "wearily 3.2279658\n",
            "vacuum 3.2315094\n",
            "ptolemy 3.231715\n",
            "neville 3.233017\n",
            "sources 3.2362869\n",
            "english 3.2371888\n",
            "calculating 3.2373319\n"
          ]
        }
      ],
      "source": [
        "for word in list1[:100]:\n",
        "  print(word, word_dict[word])\n",
        "\n",
        "# for word in word_book[:20]:\n",
        "#   print(f'{word} : ' + str(word_dict[word]))"
      ]
    },
    {
      "cell_type": "code",
      "execution_count": null,
      "id": "0N33OkN_-cVx",
      "metadata": {
        "colab": {
          "base_uri": "https://localhost:8080/"
        },
        "id": "0N33OkN_-cVx",
        "outputId": "64d449dd-72a3-4b4f-c759-fbf90c057e6d"
      },
      "outputs": [
        {
          "data": {
            "text/plain": [
              "0.3456408"
            ]
          },
          "execution_count": 32,
          "metadata": {},
          "output_type": "execute_result"
        }
      ],
      "source": [
        "word_dict['harry']"
      ]
    }
  ],
  "metadata": {
    "accelerator": "GPU",
    "colab": {
      "gpuType": "T4",
      "machine_shape": "hm",
      "provenance": []
    },
    "kernel_info": {
      "name": "python3"
    },
    "kernelspec": {
      "display_name": "Python 3",
      "name": "python3"
    },
    "language_info": {
      "codemirror_mode": {
        "name": "ipython",
        "version": 3
      },
      "file_extension": ".py",
      "mimetype": "text/x-python",
      "name": "python",
      "nbconvert_exporter": "python",
      "pygments_lexer": "ipython3",
      "version": "3.10.12"
    },
    "noteable": {
      "last_transaction_id": "9520ea7b-e89e-4a32-b5d9-87cf09379d0e"
    },
    "selected_hardware_size": "small"
  },
  "nbformat": 4,
  "nbformat_minor": 5
}
