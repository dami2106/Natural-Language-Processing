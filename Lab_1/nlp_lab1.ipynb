{
  "cells": [
    {
      "cell_type": "code",
      "execution_count": 130,
      "id": "e35adf4c-2632-4c84-a35c-3c8e152469c7",
      "metadata": {
        "ExecuteTime": {
          "end_time": "2023-08-08T10:04:19.180641+00:00",
          "start_time": "2023-08-08T10:04:19.023292+00:00"
        },
        "jupyter": {
          "outputs_hidden": false,
          "source_hidden": false
        },
        "noteable": {
          "cell_type": "code",
          "output_collection_id": "ffa2e585-600b-46a8-982c-d2a9a04b071c"
        }
      },
      "outputs": [],
      "source": [
        "import string \n",
        "import numpy as np\n",
        "import tensorflow as tf"
      ]
    },
    {
      "cell_type": "code",
      "execution_count": 131,
      "id": "882aca16",
      "metadata": {
        "ExecuteTime": {
          "end_time": "2023-08-08T10:04:19.351705+00:00",
          "start_time": "2023-08-08T10:04:19.189793+00:00"
        },
        "noteable": {
          "output_collection_id": "eb45fc00-56c4-4b69-aa58-c6cbbb3c4009"
        }
      },
      "outputs": [],
      "source": [
        "with open (\"dataset.txt\", 'r') as f:\n",
        "    data = f.read()\n",
        "    f.close()\n",
        "data = data.lower()\n",
        "data = data.split(' ')"
      ]
    },
    {
      "cell_type": "code",
      "execution_count": 132,
      "id": "3d62ba8f-a5b0-43c8-bda4-954d35edb1d5",
      "metadata": {
        "ExecuteTime": {
          "end_time": "2023-08-08T10:04:19.525961+00:00",
          "start_time": "2023-08-08T10:04:19.361597+00:00"
        },
        "jupyter": {
          "outputs_hidden": false,
          "source_hidden": false
        },
        "noteable": {
          "cell_type": "code",
          "output_collection_id": "000981d5-6100-475a-8da6-497dbb0422b9"
        }
      },
      "outputs": [
        {
          "data": {
            "text/plain": [
              "['after',\n",
              " 'flying',\n",
              " 'a',\n",
              " 'long',\n",
              " 'distance',\n",
              " 'a',\n",
              " 'thirsty',\n",
              " 'crow',\n",
              " 'was',\n",
              " 'wandering']"
            ]
          },
          "execution_count": 132,
          "metadata": {},
          "output_type": "execute_result"
        }
      ],
      "source": [
        "raw_paragraph = []\n",
        "for text in data:\n",
        "     raw_paragraph.append(''.join(x for x in text if x.isalpha()))\n",
        "    \n",
        "raw_paragraph[:10]"
      ]
    },
    {
      "cell_type": "code",
      "execution_count": 133,
      "id": "b1db9d20-9b9c-4338-aa84-6633099665fc",
      "metadata": {
        "ExecuteTime": {
          "end_time": "2023-08-08T10:04:19.698809+00:00",
          "start_time": "2023-08-08T10:04:19.536131+00:00"
        },
        "jupyter": {
          "outputs_hidden": false,
          "source_hidden": false
        },
        "noteable": {
          "cell_type": "code",
          "output_collection_id": "3e4037cc-8721-4f46-a96e-2b2c53184d9b"
        }
      },
      "outputs": [
        {
          "data": {
            "text/plain": [
              "array(['after', 'flying', 'a', 'long', 'distance', 'thirsty', 'crow',\n",
              "       'was', 'wandering', 'the', 'forest', 'in', 'search', 'of', 'water',\n",
              "       'finally', 'he', 'saw', 'pot', 'halffilled', 'with', 'tried', 'to',\n",
              "       'drink', 'from', 'it', 'but', 'his', 'beak', 'wasnt', 'enough',\n",
              "       'reach', 'inside', 'then', 'pebbles', 'on', 'ground', 'and', 'one',\n",
              "       'by', 'put', 'them', 'until', 'rose', 'brim', 'hastily', 'drank',\n",
              "       'quenched', 'thirst'], dtype='<U10')"
            ]
          },
          "execution_count": 133,
          "metadata": {},
          "output_type": "execute_result"
        }
      ],
      "source": [
        "unique_words = []\n",
        "for word in raw_paragraph:\n",
        "    if word not in unique_words:\n",
        "        unique_words.append(word)\n",
        "unique_words = np.array(unique_words)\n",
        "unique_words"
      ]
    },
    {
      "cell_type": "code",
      "execution_count": 134,
      "id": "084b2698-5470-4ebc-a433-df0825f38e04",
      "metadata": {
        "ExecuteTime": {
          "end_time": "2023-08-08T10:04:19.867513+00:00",
          "start_time": "2023-08-08T10:04:19.707103+00:00"
        },
        "jupyter": {
          "outputs_hidden": false,
          "source_hidden": false
        },
        "noteable": {
          "cell_type": "code",
          "output_collection_id": "4558ac96-8d12-4625-9bb7-992675af6bdc"
        }
      },
      "outputs": [],
      "source": [
        "dict_size = len(unique_words)\n",
        "paragraph_size = len(raw_paragraph)\n",
        "encoding_mapping = {}\n",
        "\n",
        "for word in raw_paragraph:\n",
        "    encoding = np.zeros((dict_size))\n",
        "    pos = np.where(unique_words == word)[0][0]\n",
        "    encoding[pos] = 1\n",
        "    encoding_mapping[word] = encoding"
      ]
    },
    {
      "cell_type": "code",
      "execution_count": 135,
      "id": "682117a5-b76e-4594-b910-4b72a9bd9257",
      "metadata": {
        "ExecuteTime": {
          "end_time": "2023-08-08T10:04:20.090871+00:00",
          "start_time": "2023-08-08T10:04:19.931369+00:00"
        },
        "jupyter": {
          "outputs_hidden": false,
          "source_hidden": false
        },
        "noteable": {
          "cell_type": "code",
          "output_collection_id": "4e1aec9b-d2c1-40c7-aa3c-e165ce1fd7db"
        }
      },
      "outputs": [],
      "source": [
        "data = []\n",
        "label =[]\n",
        "window = [-2,-1,1,2]\n",
        "for i in range(paragraph_size):\n",
        "    working_word = raw_paragraph[i]\n",
        "    for j in window:\n",
        "        t = i + j\n",
        "        if 0 <= t < paragraph_size:\n",
        "            data.append(encoding_mapping[working_word])\n",
        "            label.append(encoding_mapping[raw_paragraph[t]])\n",
        "data = np.array(data)\n",
        "label = np.array(label)"
      ]
    },
    {
      "cell_type": "code",
      "execution_count": 136,
      "id": "e7f8aa32-cced-4b10-824d-691b90e56c80",
      "metadata": {
        "ExecuteTime": {
          "end_time": "2023-08-08T10:04:20.294466+00:00",
          "start_time": "2023-08-08T10:04:20.137194+00:00"
        },
        "jupyter": {
          "outputs_hidden": false,
          "source_hidden": false
        },
        "noteable": {
          "cell_type": "code",
          "output_collection_id": "47e58496-968a-4060-bcd6-8bb8cdde92e9"
        }
      },
      "outputs": [],
      "source": [
        "# np.save('data.npy', data)\n",
        "# np.save('label.npy', label)"
      ]
    },
    {
      "cell_type": "code",
      "execution_count": 137,
      "id": "b545c45d",
      "metadata": {},
      "outputs": [],
      "source": [
        "rng_state = np.random.get_state()\n",
        "np.random.shuffle(data)\n",
        "np.random.set_state(rng_state)\n",
        "np.random.shuffle(label)"
      ]
    },
    {
      "cell_type": "code",
      "execution_count": 138,
      "id": "6269a0ed",
      "metadata": {},
      "outputs": [
        {
          "name": "stdout",
          "output_type": "stream",
          "text": [
            "(298, 49) (298, 49)\n"
          ]
        }
      ],
      "source": [
        "print(data.shape, label.shape)"
      ]
    },
    {
      "cell_type": "code",
      "execution_count": 139,
      "id": "af6bdf1e",
      "metadata": {},
      "outputs": [],
      "source": [
        "X_train = data[: int(0.9 * data.shape[0])]\n",
        "y_train = label[: int(0.9 * label.shape[0])]\n",
        "\n",
        "X_test = data[int(0.9 * data.shape[0]): ]\n",
        "y_test = label[int(0.9 * label.shape[0]): ]"
      ]
    },
    {
      "cell_type": "code",
      "execution_count": 140,
      "id": "126797aa",
      "metadata": {},
      "outputs": [],
      "source": [
        "model = tf.keras.Sequential([\n",
        "  tf.keras.layers.Dense(units = 150, activation = 'linear', input_shape = (49,), name='hidden'),\n",
        "  tf.keras.layers.Dense(units = 49, activation = 'linear', name='output'),\n",
        "])"
      ]
    },
    {
      "cell_type": "code",
      "execution_count": 141,
      "id": "92541ec8",
      "metadata": {},
      "outputs": [
        {
          "name": "stdout",
          "output_type": "stream",
          "text": [
            "Model: \"sequential_8\"\n",
            "_________________________________________________________________\n",
            " Layer (type)                Output Shape              Param #   \n",
            "=================================================================\n",
            " hidden (Dense)              (None, 150)               7500      \n",
            "                                                                 \n",
            " output (Dense)              (None, 49)                7399      \n",
            "                                                                 \n",
            "=================================================================\n",
            "Total params: 14,899\n",
            "Trainable params: 14,899\n",
            "Non-trainable params: 0\n",
            "_________________________________________________________________\n"
          ]
        }
      ],
      "source": [
        "model.summary()"
      ]
    },
    {
      "cell_type": "code",
      "execution_count": 142,
      "id": "56897203",
      "metadata": {},
      "outputs": [],
      "source": [
        "optimizer = tf.keras.optimizers.Adam(learning_rate=0.001)\n",
        "loss_function = tf.keras.losses.MeanSquaredError()\n",
        "model.compile(optimizer=optimizer, loss=loss_function, metrics=['accuracy'])"
      ]
    },
    {
      "cell_type": "code",
      "execution_count": 143,
      "id": "5f4dcbbf",
      "metadata": {},
      "outputs": [
        {
          "data": {
            "text/plain": [
              "<keras.callbacks.History at 0x22d216dffa0>"
            ]
          },
          "execution_count": 143,
          "metadata": {},
          "output_type": "execute_result"
        }
      ],
      "source": [
        "epochs = 60\n",
        "# batch_size = 2\n",
        "\n",
        "model.fit(data, label, epochs=epochs, validation_split=0.1, verbose = 0)"
      ]
    },
    {
      "cell_type": "code",
      "execution_count": 144,
      "id": "4e98acbc",
      "metadata": {},
      "outputs": [
        {
          "name": "stdout",
          "output_type": "stream",
          "text": [
            "3/3 [==============================] - 0s 2ms/step\n",
            "after flying after distance a a distance a the thirsty the in search the of in he water water he distance with a pot he water drink the from it from from beak wasnt long a wasnt the water in he then water he he the pebbles in the ground by one by water in in the in with the in he the the in the in the he crow then it from ground it beak quenched\n"
          ]
        }
      ],
      "source": [
        "test = []\n",
        "\n",
        "for word in raw_paragraph:\n",
        "    test.append(encoding_mapping[word])\n",
        "test = np.array(test)\n",
        "predicted = model.predict(test)\n",
        "\n",
        "out = \"after\"\n",
        "\n",
        "for i, o in zip(test, predicted):\n",
        "    # print(i, o)\n",
        "    out += \" \" + unique_words[np.argmax(o)]\n",
        "    # print(unique_words[np.argmax(i)], '->', unique_words[np.argmax(o)])\n",
        "print(out)"
      ]
    }
  ],
  "metadata": {
    "kernel_info": {
      "name": "python3"
    },
    "kernelspec": {
      "display_name": "Python 3.9",
      "language": "python",
      "name": "python3"
    },
    "language_info": {
      "codemirror_mode": {
        "name": "ipython",
        "version": 3
      },
      "file_extension": ".py",
      "mimetype": "text/x-python",
      "name": "python",
      "nbconvert_exporter": "python",
      "pygments_lexer": "ipython3",
      "version": "3.10.12"
    },
    "noteable": {
      "last_transaction_id": "9520ea7b-e89e-4a32-b5d9-87cf09379d0e"
    },
    "selected_hardware_size": "small"
  },
  "nbformat": 4,
  "nbformat_minor": 5
}
