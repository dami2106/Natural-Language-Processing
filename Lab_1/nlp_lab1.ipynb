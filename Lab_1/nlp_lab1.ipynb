{
  "cells": [
    {
      "cell_type": "code",
      "execution_count": 113,
      "id": "e35adf4c-2632-4c84-a35c-3c8e152469c7",
      "metadata": {
        "ExecuteTime": {
          "end_time": "2023-08-08T10:04:19.180641+00:00",
          "start_time": "2023-08-08T10:04:19.023292+00:00"
        },
        "jupyter": {
          "outputs_hidden": false,
          "source_hidden": false
        },
        "noteable": {
          "cell_type": "code",
          "output_collection_id": "ffa2e585-600b-46a8-982c-d2a9a04b071c"
        },
        "id": "e35adf4c-2632-4c84-a35c-3c8e152469c7"
      },
      "outputs": [],
      "source": [
        "import string\n",
        "import numpy as np\n",
        "import tensorflow as tf\n",
        "from tensorflow.keras import initializers"
      ]
    },
    {
      "cell_type": "code",
      "execution_count": 114,
      "id": "882aca16",
      "metadata": {
        "ExecuteTime": {
          "end_time": "2023-08-08T10:04:19.351705+00:00",
          "start_time": "2023-08-08T10:04:19.189793+00:00"
        },
        "noteable": {
          "output_collection_id": "eb45fc00-56c4-4b69-aa58-c6cbbb3c4009"
        },
        "colab": {
          "base_uri": "https://localhost:8080/"
        },
        "id": "882aca16",
        "outputId": "e2b0a8bf-4d1b-4ad3-8347-602588a728c4"
      },
      "outputs": [
        {
          "output_type": "stream",
          "name": "stdout",
          "text": [
            "After flying a long distance, a thirsty crow was wandering the forest in search of water. Finally, he saw a pot half-filled with water. He tried to drink from it but his beak wasn’t long enough to reach the water inside. He then saw pebbles on the ground and one by one, he put them in the pot until the water rose to the brim. The crow then hastily drank from it and quenched his thirst.\n",
            "\n"
          ]
        }
      ],
      "source": [
        "with open (\"dataset.txt\", 'r') as f:\n",
        "    data = f.read()\n",
        "    print(data)\n",
        "    f.close()\n",
        "data = data.lower()\n",
        "data = data.split(' ')"
      ]
    },
    {
      "cell_type": "code",
      "execution_count": 115,
      "id": "3d62ba8f-a5b0-43c8-bda4-954d35edb1d5",
      "metadata": {
        "ExecuteTime": {
          "end_time": "2023-08-08T10:04:19.525961+00:00",
          "start_time": "2023-08-08T10:04:19.361597+00:00"
        },
        "jupyter": {
          "outputs_hidden": false,
          "source_hidden": false
        },
        "noteable": {
          "cell_type": "code",
          "output_collection_id": "000981d5-6100-475a-8da6-497dbb0422b9"
        },
        "colab": {
          "base_uri": "https://localhost:8080/"
        },
        "id": "3d62ba8f-a5b0-43c8-bda4-954d35edb1d5",
        "outputId": "6375276d-cf9b-4441-ecd2-20c76ecb0b30"
      },
      "outputs": [
        {
          "output_type": "execute_result",
          "data": {
            "text/plain": [
              "array(['after', 'flying', 'a', 'long', 'distance', 'a', 'thirsty', 'crow',\n",
              "       'was', 'wandering'], dtype='<U10')"
            ]
          },
          "metadata": {},
          "execution_count": 115
        }
      ],
      "source": [
        "raw_paragraph = []\n",
        "for text in data:\n",
        "     raw_paragraph.append(''.join(x for x in text if x.isalpha()))\n",
        "\n",
        "raw_paragraph = np.array(raw_paragraph)\n",
        "raw_paragraph[:10]"
      ]
    },
    {
      "cell_type": "code",
      "execution_count": 116,
      "id": "b1db9d20-9b9c-4338-aa84-6633099665fc",
      "metadata": {
        "ExecuteTime": {
          "end_time": "2023-08-08T10:04:19.698809+00:00",
          "start_time": "2023-08-08T10:04:19.536131+00:00"
        },
        "jupyter": {
          "outputs_hidden": false,
          "source_hidden": false
        },
        "noteable": {
          "cell_type": "code",
          "output_collection_id": "3e4037cc-8721-4f46-a96e-2b2c53184d9b"
        },
        "colab": {
          "base_uri": "https://localhost:8080/"
        },
        "id": "b1db9d20-9b9c-4338-aa84-6633099665fc",
        "outputId": "4baf013e-0404-47f2-ce38-06467813a5ff"
      },
      "outputs": [
        {
          "output_type": "execute_result",
          "data": {
            "text/plain": [
              "array(['after', 'flying', 'a', 'long', 'distance', 'thirsty', 'crow',\n",
              "       'was', 'wandering', 'the', 'forest', 'in', 'search', 'of', 'water',\n",
              "       'finally', 'he', 'saw', 'pot', 'halffilled', 'with', 'tried', 'to',\n",
              "       'drink', 'from', 'it', 'but', 'his', 'beak', 'wasnt', 'enough',\n",
              "       'reach', 'inside', 'then', 'pebbles', 'on', 'ground', 'and', 'one',\n",
              "       'by', 'put', 'them', 'until', 'rose', 'brim', 'hastily', 'drank',\n",
              "       'quenched', 'thirst'], dtype='<U10')"
            ]
          },
          "metadata": {},
          "execution_count": 116
        }
      ],
      "source": [
        "unique_words = []\n",
        "for word in raw_paragraph:\n",
        "    if word not in unique_words:\n",
        "        unique_words.append(word)\n",
        "unique_words = np.array(unique_words)\n",
        "unique_words"
      ]
    },
    {
      "cell_type": "code",
      "execution_count": 117,
      "id": "084b2698-5470-4ebc-a433-df0825f38e04",
      "metadata": {
        "ExecuteTime": {
          "end_time": "2023-08-08T10:04:19.867513+00:00",
          "start_time": "2023-08-08T10:04:19.707103+00:00"
        },
        "jupyter": {
          "outputs_hidden": false,
          "source_hidden": false
        },
        "noteable": {
          "cell_type": "code",
          "output_collection_id": "4558ac96-8d12-4625-9bb7-992675af6bdc"
        },
        "id": "084b2698-5470-4ebc-a433-df0825f38e04"
      },
      "outputs": [],
      "source": [
        "dict_size = len(unique_words)\n",
        "paragraph_size = len(raw_paragraph)\n",
        "encoding_mapping = {}\n",
        "\n",
        "for word in raw_paragraph:\n",
        "    encoding = np.zeros((dict_size))\n",
        "    pos = np.where(unique_words == word)[0][0]\n",
        "    encoding[pos] = 1\n",
        "    encoding_mapping[word] = encoding"
      ]
    },
    {
      "cell_type": "code",
      "execution_count": 118,
      "id": "682117a5-b76e-4594-b910-4b72a9bd9257",
      "metadata": {
        "ExecuteTime": {
          "end_time": "2023-08-08T10:04:20.090871+00:00",
          "start_time": "2023-08-08T10:04:19.931369+00:00"
        },
        "jupyter": {
          "outputs_hidden": false,
          "source_hidden": false
        },
        "noteable": {
          "cell_type": "code",
          "output_collection_id": "4e1aec9b-d2c1-40c7-aa3c-e165ce1fd7db"
        },
        "id": "682117a5-b76e-4594-b910-4b72a9bd9257"
      },
      "outputs": [],
      "source": [
        "data = []\n",
        "label =[]\n",
        "window = [-2,-1,1,2]\n",
        "for i in range(paragraph_size):\n",
        "    working_word = raw_paragraph[i]\n",
        "    for j in window:\n",
        "        t = i + j\n",
        "        if 0 <= t < paragraph_size:\n",
        "            data.append(encoding_mapping[working_word])\n",
        "            label.append(encoding_mapping[raw_paragraph[t]])\n",
        "data = np.array(data)\n",
        "label = np.array(label)"
      ]
    },
    {
      "cell_type": "code",
      "execution_count": 119,
      "id": "b545c45d",
      "metadata": {
        "id": "b545c45d"
      },
      "outputs": [],
      "source": [
        "rng_state = np.random.get_state()\n",
        "np.random.shuffle(data)\n",
        "np.random.set_state(rng_state)\n",
        "np.random.shuffle(label)"
      ]
    },
    {
      "cell_type": "code",
      "execution_count": 120,
      "id": "6269a0ed",
      "metadata": {
        "colab": {
          "base_uri": "https://localhost:8080/"
        },
        "id": "6269a0ed",
        "outputId": "d6c38419-ffc7-45e8-85b4-076b6b1a0390"
      },
      "outputs": [
        {
          "output_type": "stream",
          "name": "stdout",
          "text": [
            "(298, 49) (298, 49)\n"
          ]
        }
      ],
      "source": [
        "print(data.shape, label.shape)"
      ]
    },
    {
      "cell_type": "code",
      "execution_count": 121,
      "id": "af6bdf1e",
      "metadata": {
        "id": "af6bdf1e"
      },
      "outputs": [],
      "source": [
        "train_size = 0.9\n",
        "\n",
        "X_train = data[: int(train_size * data.shape[0])]\n",
        "y_train = label[: int(train_size * label.shape[0])]\n",
        "\n",
        "X_test = data[int(train_size * data.shape[0]): ]\n",
        "y_test = label[int(train_size * label.shape[0]): ]"
      ]
    },
    {
      "cell_type": "code",
      "execution_count": 124,
      "id": "126797aa",
      "metadata": {
        "id": "126797aa"
      },
      "outputs": [],
      "source": [
        "embedding_size = 10\n",
        "model = tf.keras.Sequential([\n",
        "  tf.keras.layers.Dense(units = embedding_size,\n",
        "                        activation = 'linear',\n",
        "                        input_shape = (dict_size,),\n",
        "                        name='hidden',\n",
        "                        kernel_initializer=initializers.RandomNormal(stddev=0.01),\n",
        "                        bias_initializer=initializers.RandomNormal(stddev=0.01)),\n",
        "\n",
        "  tf.keras.layers.Dense(units = dict_size,\n",
        "                        activation = 'softmax',\n",
        "                        name='output',\n",
        "                        kernel_initializer=initializers.RandomNormal(stddev=0.01),\n",
        "                        bias_initializer=initializers.RandomNormal(stddev=0.01)\n",
        "                        ),\n",
        "])"
      ]
    },
    {
      "cell_type": "code",
      "execution_count": 125,
      "id": "92541ec8",
      "metadata": {
        "colab": {
          "base_uri": "https://localhost:8080/"
        },
        "id": "92541ec8",
        "outputId": "7a7d55bc-1cb8-4f49-ed34-cd3069375ace"
      },
      "outputs": [
        {
          "output_type": "stream",
          "name": "stdout",
          "text": [
            "Model: \"sequential_7\"\n",
            "_________________________________________________________________\n",
            " Layer (type)                Output Shape              Param #   \n",
            "=================================================================\n",
            " hidden (Dense)              (None, 10)                500       \n",
            "                                                                 \n",
            " output (Dense)              (None, 49)                539       \n",
            "                                                                 \n",
            "=================================================================\n",
            "Total params: 1,039\n",
            "Trainable params: 1,039\n",
            "Non-trainable params: 0\n",
            "_________________________________________________________________\n"
          ]
        }
      ],
      "source": [
        "model.summary()"
      ]
    },
    {
      "cell_type": "code",
      "execution_count": 126,
      "id": "56897203",
      "metadata": {
        "id": "56897203"
      },
      "outputs": [],
      "source": [
        "optimizer = tf.keras.optimizers.Adam(learning_rate=0.1)\n",
        "loss_function = tf.keras.losses.CategoricalCrossentropy()\n",
        "model.compile(optimizer=optimizer, loss=loss_function, metrics=['accuracy'])"
      ]
    },
    {
      "cell_type": "code",
      "execution_count": null,
      "id": "5f4dcbbf",
      "metadata": {
        "id": "5f4dcbbf"
      },
      "outputs": [],
      "source": [
        "epochs = 15\n",
        "\n",
        "model.fit(data, label, epochs=epochs, validation_split=0.1)"
      ]
    },
    {
      "cell_type": "code",
      "source": [
        "def nth_word(n):\n",
        "  return raw_paragraph[n - 1]"
      ],
      "metadata": {
        "id": "B2KZxIsFjMmL"
      },
      "id": "B2KZxIsFjMmL",
      "execution_count": 128,
      "outputs": []
    },
    {
      "cell_type": "code",
      "source": [
        "def word_occurance(word):\n",
        "  return len(np.where(raw_paragraph == word)[0])"
      ],
      "metadata": {
        "id": "YLThZRuQjmJ9"
      },
      "id": "YLThZRuQjmJ9",
      "execution_count": 129,
      "outputs": []
    },
    {
      "cell_type": "code",
      "source": [
        "def get_dict_size():\n",
        "  return dict_size"
      ],
      "metadata": {
        "id": "lSRoUx_HknfC"
      },
      "id": "lSRoUx_HknfC",
      "execution_count": 130,
      "outputs": []
    },
    {
      "cell_type": "code",
      "source": [
        "#Returns the most similar word to the given word using the NN\n",
        "def most_similar(word):\n",
        "  predicted = model.predict(np.array([encoding_mapping[word]]), verbose=0)\n",
        "  return unique_words[np.argmax(predicted)]"
      ],
      "metadata": {
        "id": "Aca1Hm4xkwJe"
      },
      "id": "Aca1Hm4xkwJe",
      "execution_count": 146,
      "outputs": []
    },
    {
      "cell_type": "code",
      "source": [
        "#Returns the least similar word to the given word using the NN\n",
        "def least_similar(word):\n",
        "  predicted = model.predict(np.array([encoding_mapping[word]]), verbose=0)\n",
        "  return unique_words[np.argmin(predicted)]"
      ],
      "metadata": {
        "id": "5lz5SAJloT7B"
      },
      "id": "5lz5SAJloT7B",
      "execution_count": 151,
      "outputs": []
    },
    {
      "cell_type": "code",
      "source": [
        "# test = \"_ is to _ as _ is to _\"\n",
        "# \"dog is to cat as bird is to\"\n",
        "\n",
        "def question_5(sentence):\n",
        "  words = sentence.split(\" \")\n",
        "  pred = np.zeros((1, 49))\n",
        "  for word in words:\n",
        "    pred += model.predict(np.array([encoding_mapping[word]]), verbose=0)\n",
        "  return unique_words[np.argmax(pred)]\n",
        "\n",
        "question_5(\"water crow ground\")"
      ],
      "metadata": {
        "colab": {
          "base_uri": "https://localhost:8080/",
          "height": 35
        },
        "id": "eZVBCff-oquM",
        "outputId": "41c641f6-e94c-47ff-b853-5463fdf40642"
      },
      "id": "eZVBCff-oquM",
      "execution_count": 157,
      "outputs": [
        {
          "output_type": "execute_result",
          "data": {
            "text/plain": [
              "'the'"
            ],
            "application/vnd.google.colaboratory.intrinsic+json": {
              "type": "string"
            }
          },
          "metadata": {},
          "execution_count": 157
        }
      ]
    }
  ],
  "metadata": {
    "kernel_info": {
      "name": "python3"
    },
    "kernelspec": {
      "display_name": "Python 3.9",
      "language": "python",
      "name": "python3"
    },
    "language_info": {
      "codemirror_mode": {
        "name": "ipython",
        "version": 3
      },
      "file_extension": ".py",
      "mimetype": "text/x-python",
      "name": "python",
      "nbconvert_exporter": "python",
      "pygments_lexer": "ipython3",
      "version": "3.10.12"
    },
    "noteable": {
      "last_transaction_id": "9520ea7b-e89e-4a32-b5d9-87cf09379d0e"
    },
    "selected_hardware_size": "small",
    "colab": {
      "provenance": []
    }
  },
  "nbformat": 4,
  "nbformat_minor": 5
}